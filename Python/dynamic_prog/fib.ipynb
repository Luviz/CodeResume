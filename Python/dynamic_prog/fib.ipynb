{
 "cells": [
  {
   "cell_type": "markdown",
   "metadata": {},
   "source": [
    "# The Fibonacci sequence \n",
    "\n",
    "$f(n) = f(n-1) + f(n-2); n \\ge 1$\n",
    "\n",
    "0 | 1 | 2 | 3 | 4 | 5 | 6 |  7 |  8 |  9 | 10 \n",
    "--|---|---|---|---|---|---|----|----|----|----\n",
    "0 | 1 | 1 | 2 | 3 | 5 | 8 | 13 | 21 | 34 | 55 \n",
    "\n"
   ]
  },
  {
   "cell_type": "code",
   "execution_count": 1,
   "metadata": {},
   "outputs": [],
   "source": [
    "def fib(n):\n",
    "    if n <= 1 :\n",
    "        return n\n",
    "    return fib(n-1) + fib(n-2)"
   ]
  },
  {
   "cell_type": "markdown",
   "metadata": {},
   "source": [
    "As see above each call of the `fib()` calls it self twice more. This operation continues until $n \\le 1$.   \n",
    "Thereby;\n",
    "\n",
    "n  | number of calls\n",
    "---|-----------------\n",
    "1  | 1\n",
    "2  | 3\n",
    "3  | 5\n",
    "4  | 9\n",
    "5  | 15\n",
    "10 | 177\n",
    "15 | 1973\n",
    "20 | 21891\n",
    "25 | 242785\n",
    "\n"
   ]
  },
  {
   "cell_type": "code",
   "execution_count": 2,
   "metadata": {},
   "outputs": [
    {
     "data": {
      "text/html": [
       "<div>\n",
       "<style scoped>\n",
       "    .dataframe tbody tr th:only-of-type {\n",
       "        vertical-align: middle;\n",
       "    }\n",
       "\n",
       "    .dataframe tbody tr th {\n",
       "        vertical-align: top;\n",
       "    }\n",
       "\n",
       "    .dataframe thead th {\n",
       "        text-align: right;\n",
       "    }\n",
       "</style>\n",
       "<table border=\"1\" class=\"dataframe\">\n",
       "  <thead>\n",
       "    <tr style=\"text-align: right;\">\n",
       "      <th></th>\n",
       "      <th>number of calls</th>\n",
       "    </tr>\n",
       "  </thead>\n",
       "  <tbody>\n",
       "    <tr>\n",
       "      <th>0</th>\n",
       "      <td>1</td>\n",
       "    </tr>\n",
       "    <tr>\n",
       "      <th>1</th>\n",
       "      <td>1</td>\n",
       "    </tr>\n",
       "    <tr>\n",
       "      <th>2</th>\n",
       "      <td>3</td>\n",
       "    </tr>\n",
       "    <tr>\n",
       "      <th>3</th>\n",
       "      <td>5</td>\n",
       "    </tr>\n",
       "    <tr>\n",
       "      <th>4</th>\n",
       "      <td>9</td>\n",
       "    </tr>\n",
       "    <tr>\n",
       "      <th>5</th>\n",
       "      <td>15</td>\n",
       "    </tr>\n",
       "    <tr>\n",
       "      <th>6</th>\n",
       "      <td>25</td>\n",
       "    </tr>\n",
       "    <tr>\n",
       "      <th>7</th>\n",
       "      <td>41</td>\n",
       "    </tr>\n",
       "    <tr>\n",
       "      <th>8</th>\n",
       "      <td>67</td>\n",
       "    </tr>\n",
       "    <tr>\n",
       "      <th>9</th>\n",
       "      <td>109</td>\n",
       "    </tr>\n",
       "    <tr>\n",
       "      <th>10</th>\n",
       "      <td>177</td>\n",
       "    </tr>\n",
       "    <tr>\n",
       "      <th>11</th>\n",
       "      <td>287</td>\n",
       "    </tr>\n",
       "    <tr>\n",
       "      <th>12</th>\n",
       "      <td>465</td>\n",
       "    </tr>\n",
       "    <tr>\n",
       "      <th>13</th>\n",
       "      <td>753</td>\n",
       "    </tr>\n",
       "    <tr>\n",
       "      <th>14</th>\n",
       "      <td>1219</td>\n",
       "    </tr>\n",
       "    <tr>\n",
       "      <th>15</th>\n",
       "      <td>1973</td>\n",
       "    </tr>\n",
       "    <tr>\n",
       "      <th>16</th>\n",
       "      <td>3193</td>\n",
       "    </tr>\n",
       "    <tr>\n",
       "      <th>17</th>\n",
       "      <td>5167</td>\n",
       "    </tr>\n",
       "    <tr>\n",
       "      <th>18</th>\n",
       "      <td>8361</td>\n",
       "    </tr>\n",
       "    <tr>\n",
       "      <th>19</th>\n",
       "      <td>13529</td>\n",
       "    </tr>\n",
       "    <tr>\n",
       "      <th>20</th>\n",
       "      <td>21891</td>\n",
       "    </tr>\n",
       "    <tr>\n",
       "      <th>21</th>\n",
       "      <td>35421</td>\n",
       "    </tr>\n",
       "    <tr>\n",
       "      <th>22</th>\n",
       "      <td>57313</td>\n",
       "    </tr>\n",
       "    <tr>\n",
       "      <th>23</th>\n",
       "      <td>92735</td>\n",
       "    </tr>\n",
       "    <tr>\n",
       "      <th>24</th>\n",
       "      <td>150049</td>\n",
       "    </tr>\n",
       "  </tbody>\n",
       "</table>\n",
       "</div>"
      ],
      "text/plain": [
       "    number of calls\n",
       "0                 1\n",
       "1                 1\n",
       "2                 3\n",
       "3                 5\n",
       "4                 9\n",
       "5                15\n",
       "6                25\n",
       "7                41\n",
       "8                67\n",
       "9               109\n",
       "10              177\n",
       "11              287\n",
       "12              465\n",
       "13              753\n",
       "14             1219\n",
       "15             1973\n",
       "16             3193\n",
       "17             5167\n",
       "18             8361\n",
       "19            13529\n",
       "20            21891\n",
       "21            35421\n",
       "22            57313\n",
       "23            92735\n",
       "24           150049"
      ]
     },
     "execution_count": 2,
     "metadata": {},
     "output_type": "execute_result"
    },
    {
     "data": {
      "image/png": "[encoded data removed]",
      "text/plain": [
       "<Figure size 432x288 with 1 Axes>"
      ]
     },
     "metadata": {
      "needs_background": "light"
     },
     "output_type": "display_data"
    }
   ],
   "source": [
    "import pandas as pd\n",
    "\n",
    "c = 0 \n",
    "def fib_test(n):\n",
    "    global c\n",
    "    c += 1 \n",
    "    if n <= 1 :\n",
    "        return n\n",
    "    return fib_test(n-1) + fib_test(n-2)\n",
    "\n",
    "n_of_call = []\n",
    "values = []\n",
    "for i in range(0,25):\n",
    "    c = 0\n",
    "    a = fib_test(i)\n",
    "    # print(i,a, c)\n",
    "    values.append(a)\n",
    "    n_of_call.append(c)\n",
    "\n",
    "number_of_calls = pd.DataFrame({'number of calls': n_of_call})\n",
    "_ = number_of_calls.plot.line(xlabel=\"n\", ylabel='Number of calls')\n",
    "number_of_calls"
   ]
  },
  {
   "cell_type": "code",
   "execution_count": 3,
   "metadata": {},
   "outputs": [
    {
     "name": "stdout",
     "output_type": "stream",
     "text": [
      "3.02 s ± 266 ms per loop (mean ± std. dev. of 7 runs, 1 loop each)\n"
     ]
    }
   ],
   "source": [
    "%%timeit\n",
    "fib(35) "
   ]
  },
  {
   "cell_type": "code",
   "execution_count": 4,
   "metadata": {},
   "outputs": [
    {
     "name": "stdout",
     "output_type": "stream",
     "text": [
      "Wall time: 348 ms\n",
      "Wall time: 3.24 s\n",
      "Wall time: 31 s\n"
     ]
    },
    {
     "data": {
      "text/plain": [
       "102334155"
      ]
     },
     "execution_count": 4,
     "metadata": {},
     "output_type": "execute_result"
    }
   ],
   "source": [
    "%time fib(30)\n",
    "%time fib(35)\n",
    "%time fib(40)"
   ]
  },
  {
   "cell_type": "markdown",
   "metadata": {},
   "source": [
    "As seen above the growth is exponential and the gives us $O(n^2)$ and this will also lead in to longer running times as well.\n",
    "\n",
    "There are many ways we could improve any recursive functions.  \n"
   ]
  },
  {
   "cell_type": "markdown",
   "metadata": {},
   "source": [
    "# Memoization\n",
    "\n",
    "By using memoization we trade storage for time.   \n",
    "\n",
    "*e.g.*  \n",
    "`fib(5)` is `5`  \n",
    "$((0 + 1) + 1) + 3 = 5$  \n",
    "\n",
    "that could writen as shown:\n",
    "\n",
    "$fib(5) = fib(4) + \\underline{fib(3)}$   \n",
    "$fib(4) = \\underline{fib(3)} + fib(2)$   \n",
    "$\\underline{fib(3)} = fib(2) + fib(1)$   \n",
    "\n",
    "As you can see the $fib(3)$ is called 2 times, that means that if \n",
    "$fib(3)$ is called twice $fib(2)$ & $fib(1)$ is called each time as well.\n",
    "\n",
    "Now we know that $fib(3) = 2$ and if the software would know that as well, the need to calculate $fib(3)$ is not necessary.\n",
    "\n",
    "And the same goes for $fib(4)$ that would give us $fib(5) = 3 + 2 = 5$. Just like that we are done, there is no need to calculate the rest of the tree.\n"
   ]
  },
  {
   "cell_type": "code",
   "execution_count": 5,
   "metadata": {},
   "outputs": [],
   "source": [
    "## some notes\n",
    "## Default values in functions work differently in python, making the function above look nicer and more streamlined \n",
    "\n",
    "def fib(n, memo={}):\n",
    "    if n in memo:\n",
    "        return memo[n]\n",
    "    if n <= 1:\n",
    "        return n \n",
    "    memo[n] = fib(n-1) + fib(n-2)\n",
    "    return memo[n]"
   ]
  },
  {
   "cell_type": "markdown",
   "metadata": {},
   "source": [
    "By adding the memo to the function we simple ensured that we run each n only onces.\n",
    "as seen blow running `fib(100)` takes nanoseconds where the old `fib(40)` toke ~30 seconds    "
   ]
  },
  {
   "cell_type": "code",
   "execution_count": 6,
   "metadata": {},
   "outputs": [
    {
     "name": "stdout",
     "output_type": "stream",
     "text": [
      "135 ns ± 13.2 ns per loop (mean ± std. dev. of 7 runs, 10000000 loops each)\n"
     ]
    }
   ],
   "source": [
    "%%timeit\n",
    "fib(100)"
   ]
  },
  {
   "cell_type": "code",
   "execution_count": 7,
   "metadata": {},
   "outputs": [
    {
     "name": "stdout",
     "output_type": "stream",
     "text": [
      "Wall time: 3 ms\n"
     ]
    },
    {
     "data": {
      "text/plain": [
       "4224696333392304878706725602341482782579852840250681098010280137314308584370130707224123599639141511088446087538909603607640194711643596029271983312598737326253555802606991585915229492453904998722256795316982874482472992263901833716778060607011615497886719879858311468870876264597369086722884023654422295243347964480139515349562972087652656069529806499841977448720155612802665404554171717881930324025204312082516817125"
      ]
     },
     "execution_count": 7,
     "metadata": {},
     "output_type": "execute_result"
    }
   ],
   "source": [
    "%%time \n",
    "fib(2000)"
   ]
  },
  {
   "cell_type": "code",
   "execution_count": 8,
   "metadata": {},
   "outputs": [],
   "source": [
    "## in oreder to make the test repeatable memo need to be passed through   \n",
    "def fib(n, memo={}):\n",
    "    if n in memo:\n",
    "        return memo[n]\n",
    "    if n <= 1:\n",
    "        return n \n",
    "    memo[n] = fib(n-1,memo) + fib(n-2,memo)\n",
    "    return memo[n]"
   ]
  },
  {
   "cell_type": "code",
   "execution_count": 9,
   "metadata": {},
   "outputs": [
    {
     "name": "stdout",
     "output_type": "stream",
     "text": [
      "Wall time: 1.65 ms\n",
      "Wall time: 3.45 ms\n"
     ]
    },
    {
     "data": {
      "text/plain": [
       "4224696333392304878706725602341482782579852840250681098010280137314308584370130707224123599639141511088446087538909603607640194711643596029271983312598737326253555802606991585915229492453904998722256795316982874482472992263901833716778060607011615497886719879858311468870876264597369086722884023654422295243347964480139515349562972087652656069529806499841977448720155612802665404554171717881930324025204312082516817125"
      ]
     },
     "execution_count": 9,
     "metadata": {},
     "output_type": "execute_result"
    }
   ],
   "source": [
    "%time fib(1000, memo={})\n",
    "%time fib(2000, memo={})"
   ]
  },
  {
   "cell_type": "markdown",
   "metadata": {},
   "source": [
    "as seen above `fib(2000)` takes 3ms"
   ]
  },
  {
   "cell_type": "code",
   "execution_count": 10,
   "metadata": {},
   "outputs": [
    {
     "name": "stdout",
     "output_type": "stream",
     "text": [
      "issues 0\n"
     ]
    },
    {
     "data": {
      "image/png": "[encoded data removed]",
      "text/plain": [
       "<Figure size 1728x432 with 2 Axes>"
      ]
     },
     "metadata": {
      "needs_background": "light"
     },
     "output_type": "display_data"
    }
   ],
   "source": [
    "import pandas as pd\n",
    "import numpy as np\n",
    "import matplotlib.pyplot as plt\n",
    "\n",
    "c = 0 \n",
    "def fib_test_memo(n, memo={}):\n",
    "    global c\n",
    "    c += 1 \n",
    "    if n in memo:\n",
    "        return memo[n]\n",
    "    if n <= 1 :\n",
    "        return n\n",
    "    memo[n] = fib_test_memo(n-1, memo) + fib_test_memo(n-2, memo)\n",
    "    # memo[n] = (memo[n-1] if n-1 in memo else fib_test_memo(n-1, memo)) + (memo[n-2] if n-2 in memo else fib_test_memo(n-2, memo))\n",
    "    return memo[n]\n",
    "\n",
    "def fib_test_memo_2(n, memo={}):\n",
    "    global c\n",
    "    c += 1 \n",
    "    if n <= 1 :\n",
    "        return n\n",
    "    memo[n] = (memo[n-1] if n-1 in memo else fib_test_memo_2(n-1, memo)) + (memo[n-2] if n-2 in memo else fib_test_memo_2(n-2, memo))\n",
    "    return memo[n]\n",
    "\n",
    "\n",
    "values = []\n",
    "values_memo = []\n",
    "values_memo_2 = []\n",
    "n_of_call = []\n",
    "n_of_call_memo = []\n",
    "n_of_call_memo_2 = []\n",
    "\n",
    "for i in range(0,25, 1):\n",
    "    c = 0\n",
    "    b = fib_test_memo(i, {})\n",
    "    n_of_call_memo.append(c)\n",
    "    values_memo.append(b)\n",
    "\n",
    "    c = 0\n",
    "    b = fib_test_memo_2(i, {})\n",
    "    n_of_call_memo_2.append(c)\n",
    "    values_memo_2.append(b)\n",
    "\n",
    "\n",
    "    c = 0\n",
    "    a = fib_test(i)\n",
    "    n_of_call.append(c)\n",
    "    values.append(a)\n",
    "\n",
    "\n",
    "# number_of_calls[\"Number of calls memo\"] = number_of_calls\n",
    "number_of_calls = pd.DataFrame({\"n of call\" : n_of_call, \"n of call memo\": n_of_call_memo, \"n of call memo 2\": n_of_call_memo_2})\n",
    "\n",
    "fig, ax = plt.subplots(1,2)\n",
    "fig.figure.set_size_inches((24,6))\n",
    "\n",
    "_ = number_of_calls[\"n of call\"].plot.line(xlabel=\"n\",legend=True, ylabel='Number of calls', ax=ax[0])\n",
    "_ = number_of_calls[[\"n of call memo\", \"n of call memo 2\"]].plot.line(xlabel=\"n\", ylabel='Number of calls', ax=ax[1])\n",
    "\n",
    "print(\"issues\", sum(np.array(values) - np.array(values_memo)))"
   ]
  },
  {
   "cell_type": "markdown",
   "metadata": {},
   "source": [
    "As seen above the we have gone from an exponential growth to a linear growth.  \n",
    "Note the subtle difference between  `memo` and `meme_2`. \n",
    "In `memo` we always call the two extra methods, however this is clearly not needed and can save 2 extra call.\n",
    "\n",
    "$$\n",
    "    memo \\rightarrow O(2n)\n",
    "$$\n",
    "\n",
    "$$\n",
    "    memo_2 \\rightarrow O(1n)\n",
    "$$\n",
    "\n",
    "However in python the syntax in python is not as attractive as in some other languages. \n",
    "\n",
    "``` js\n",
    "memo[n] = (\n",
    "    memo[n - 1] || fib_memo_g(n - 1) + \n",
    "    memo[n - 2] || fib_memo_g(n - 2)\n",
    ");\n",
    "```"
   ]
  },
  {
   "cell_type": "code",
   "execution_count": 11,
   "metadata": {},
   "outputs": [
    {
     "data": {
      "text/html": [
       "<div>\n",
       "<style scoped>\n",
       "    .dataframe tbody tr th:only-of-type {\n",
       "        vertical-align: middle;\n",
       "    }\n",
       "\n",
       "    .dataframe tbody tr th {\n",
       "        vertical-align: top;\n",
       "    }\n",
       "\n",
       "    .dataframe thead th {\n",
       "        text-align: right;\n",
       "    }\n",
       "</style>\n",
       "<table border=\"1\" class=\"dataframe\">\n",
       "  <thead>\n",
       "    <tr style=\"text-align: right;\">\n",
       "      <th></th>\n",
       "      <th>n of call</th>\n",
       "      <th>n of call memo</th>\n",
       "      <th>n of call memo 2</th>\n",
       "    </tr>\n",
       "  </thead>\n",
       "  <tbody>\n",
       "    <tr>\n",
       "      <th>0</th>\n",
       "      <td>1</td>\n",
       "      <td>1</td>\n",
       "      <td>1</td>\n",
       "    </tr>\n",
       "    <tr>\n",
       "      <th>1</th>\n",
       "      <td>1</td>\n",
       "      <td>1</td>\n",
       "      <td>1</td>\n",
       "    </tr>\n",
       "    <tr>\n",
       "      <th>2</th>\n",
       "      <td>3</td>\n",
       "      <td>3</td>\n",
       "      <td>3</td>\n",
       "    </tr>\n",
       "    <tr>\n",
       "      <th>3</th>\n",
       "      <td>5</td>\n",
       "      <td>5</td>\n",
       "      <td>5</td>\n",
       "    </tr>\n",
       "    <tr>\n",
       "      <th>4</th>\n",
       "      <td>9</td>\n",
       "      <td>7</td>\n",
       "      <td>6</td>\n",
       "    </tr>\n",
       "    <tr>\n",
       "      <th>5</th>\n",
       "      <td>15</td>\n",
       "      <td>9</td>\n",
       "      <td>7</td>\n",
       "    </tr>\n",
       "    <tr>\n",
       "      <th>6</th>\n",
       "      <td>25</td>\n",
       "      <td>11</td>\n",
       "      <td>8</td>\n",
       "    </tr>\n",
       "    <tr>\n",
       "      <th>7</th>\n",
       "      <td>41</td>\n",
       "      <td>13</td>\n",
       "      <td>9</td>\n",
       "    </tr>\n",
       "    <tr>\n",
       "      <th>8</th>\n",
       "      <td>67</td>\n",
       "      <td>15</td>\n",
       "      <td>10</td>\n",
       "    </tr>\n",
       "    <tr>\n",
       "      <th>9</th>\n",
       "      <td>109</td>\n",
       "      <td>17</td>\n",
       "      <td>11</td>\n",
       "    </tr>\n",
       "    <tr>\n",
       "      <th>10</th>\n",
       "      <td>177</td>\n",
       "      <td>19</td>\n",
       "      <td>12</td>\n",
       "    </tr>\n",
       "    <tr>\n",
       "      <th>11</th>\n",
       "      <td>287</td>\n",
       "      <td>21</td>\n",
       "      <td>13</td>\n",
       "    </tr>\n",
       "    <tr>\n",
       "      <th>12</th>\n",
       "      <td>465</td>\n",
       "      <td>23</td>\n",
       "      <td>14</td>\n",
       "    </tr>\n",
       "    <tr>\n",
       "      <th>13</th>\n",
       "      <td>753</td>\n",
       "      <td>25</td>\n",
       "      <td>15</td>\n",
       "    </tr>\n",
       "    <tr>\n",
       "      <th>14</th>\n",
       "      <td>1219</td>\n",
       "      <td>27</td>\n",
       "      <td>16</td>\n",
       "    </tr>\n",
       "    <tr>\n",
       "      <th>15</th>\n",
       "      <td>1973</td>\n",
       "      <td>29</td>\n",
       "      <td>17</td>\n",
       "    </tr>\n",
       "    <tr>\n",
       "      <th>16</th>\n",
       "      <td>3193</td>\n",
       "      <td>31</td>\n",
       "      <td>18</td>\n",
       "    </tr>\n",
       "    <tr>\n",
       "      <th>17</th>\n",
       "      <td>5167</td>\n",
       "      <td>33</td>\n",
       "      <td>19</td>\n",
       "    </tr>\n",
       "    <tr>\n",
       "      <th>18</th>\n",
       "      <td>8361</td>\n",
       "      <td>35</td>\n",
       "      <td>20</td>\n",
       "    </tr>\n",
       "    <tr>\n",
       "      <th>19</th>\n",
       "      <td>13529</td>\n",
       "      <td>37</td>\n",
       "      <td>21</td>\n",
       "    </tr>\n",
       "    <tr>\n",
       "      <th>20</th>\n",
       "      <td>21891</td>\n",
       "      <td>39</td>\n",
       "      <td>22</td>\n",
       "    </tr>\n",
       "    <tr>\n",
       "      <th>21</th>\n",
       "      <td>35421</td>\n",
       "      <td>41</td>\n",
       "      <td>23</td>\n",
       "    </tr>\n",
       "    <tr>\n",
       "      <th>22</th>\n",
       "      <td>57313</td>\n",
       "      <td>43</td>\n",
       "      <td>24</td>\n",
       "    </tr>\n",
       "    <tr>\n",
       "      <th>23</th>\n",
       "      <td>92735</td>\n",
       "      <td>45</td>\n",
       "      <td>25</td>\n",
       "    </tr>\n",
       "    <tr>\n",
       "      <th>24</th>\n",
       "      <td>150049</td>\n",
       "      <td>47</td>\n",
       "      <td>26</td>\n",
       "    </tr>\n",
       "  </tbody>\n",
       "</table>\n",
       "</div>"
      ],
      "text/plain": [
       "    n of call  n of call memo  n of call memo 2\n",
       "0           1               1                 1\n",
       "1           1               1                 1\n",
       "2           3               3                 3\n",
       "3           5               5                 5\n",
       "4           9               7                 6\n",
       "5          15               9                 7\n",
       "6          25              11                 8\n",
       "7          41              13                 9\n",
       "8          67              15                10\n",
       "9         109              17                11\n",
       "10        177              19                12\n",
       "11        287              21                13\n",
       "12        465              23                14\n",
       "13        753              25                15\n",
       "14       1219              27                16\n",
       "15       1973              29                17\n",
       "16       3193              31                18\n",
       "17       5167              33                19\n",
       "18       8361              35                20\n",
       "19      13529              37                21\n",
       "20      21891              39                22\n",
       "21      35421              41                23\n",
       "22      57313              43                24\n",
       "23      92735              45                25\n",
       "24     150049              47                26"
      ]
     },
     "execution_count": 11,
     "metadata": {},
     "output_type": "execute_result"
    }
   ],
   "source": [
    "number_of_calls"
   ]
  }
 ],
 "metadata": {
  "interpreter": {
   "hash": "2d3c11cc26193f19bd90390f13a4646a88d70b8ae872988b8e2671c81c3240b1"
  },
  "kernelspec": {
   "display_name": "Python 3.9.6 64-bit",
   "language": "python",
   "name": "python3"
  },
  "language_info": {
   "codemirror_mode": {
    "name": "ipython",
    "version": 3
   },
   "file_extension": ".py",
   "mimetype": "text/x-python",
   "name": "python",
   "nbconvert_exporter": "python",
   "pygments_lexer": "ipython3",
   "version": "3.9.6"
  },
  "orig_nbformat": 4
 },
 "nbformat": 4,
 "nbformat_minor": 2
}
