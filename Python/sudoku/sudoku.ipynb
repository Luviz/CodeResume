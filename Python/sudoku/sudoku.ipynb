{
 "metadata": {
  "language_info": {
   "codemirror_mode": {
    "name": "ipython",
    "version": 3
   },
   "file_extension": ".py",
   "mimetype": "text/x-python",
   "name": "python",
   "nbconvert_exporter": "python",
   "pygments_lexer": "ipython3",
   "version": "3.9.3-final"
  },
  "orig_nbformat": 2,
  "kernelspec": {
   "name": "python393jvsc74a57bd092c9a26106f171fbfb0b57396b2b3e84bd7f3f035e7ae4fc69e0fd181b6d2782",
   "display_name": "Python 3.9.3 64-bit"
  },
  "metadata": {
   "interpreter": {
    "hash": "92c9a26106f171fbfb0b57396b2b3e84bd7f3f035e7ae4fc69e0fd181b6d2782"
   }
  }
 },
 "nbformat": 4,
 "nbformat_minor": 2,
 "cells": [
  {
   "cell_type": "code",
   "execution_count": 1,
   "metadata": {},
   "outputs": [],
   "source": [
    "import numpy as np\n",
    "from collections import Counter, namedtuple"
   ]
  },
  {
   "cell_type": "code",
   "execution_count": 52,
   "metadata": {},
   "outputs": [
    {
     "output_type": "stream",
     "name": "stdout",
     "text": [
      "[[0 0 9 4 0 0 0 0 6]\n [0 1 0 0 5 0 0 4 0]\n [7 0 0 0 0 6 5 0 0]\n [5 0 0 0 0 1 2 0 0]\n [0 2 0 0 7 0 0 3 0]\n [0 0 4 5 0 0 0 0 9]\n [0 0 8 6 0 0 0 0 1]\n [0 7 0 0 9 0 0 2 0]\n [1 0 0 0 0 8 9 0 0]]\n"
     ]
    }
   ],
   "source": [
    "zeros = np.zeros((9,9),dtype=\"int16\")\n",
    "easy = np.load(\"data/easy.npy\")\n",
    "easyChanged = np.load(\"data/easyChanged.npy\")\n",
    "extrime = np.load(\"data/extrime.npy\")\n",
    "print(extrime)"
   ]
  },
  {
   "cell_type": "code",
   "execution_count": 68,
   "metadata": {},
   "outputs": [],
   "source": [
    "def getBorad(matrix):\n",
    "    borad = \"#-------+-------+-------#\\n\"\n",
    "    for y in range(9):\n",
    "        borad += divyUp(matrix[y]) + \"\\n\"\n",
    "        if y % 3 == 2:\n",
    "            borad += \"#-------+-------+-------#\\n\"\n",
    "    return borad\n",
    "\n",
    "def divyUp(arr):\n",
    "    s = \"| \"\n",
    "    for i in range(9):\n",
    "        s += '{} '.format(' 'if arr[i] == 0 else arr[i])\n",
    "        if i % 3 == 2:\n",
    "            s += \"| \"\n",
    "    return s\n",
    "\n",
    "def printBorad(matrix):\n",
    "    print(getBorad(matrix))"
   ]
  },
  {
   "cell_type": "code",
   "execution_count": 71,
   "metadata": {},
   "outputs": [
    {
     "output_type": "stream",
     "name": "stdout",
     "text": [
      "#-------+-------+-------#\n|     9 | 4     |     6 | \n|   1   |   5   |   4   | \n| 7     |     6 | 5     | \n#-------+-------+-------#\n| 5     |     1 | 2     | \n|   2   |   7   |   3   | \n|     4 | 5     |     9 | \n#-------+-------+-------#\n|     8 | 6     |     1 | \n|   7   |   9   |   2   | \n| 1     |     8 | 9     | \n#-------+-------+-------#\n\n"
     ]
    }
   ],
   "source": [
    "printBorad(extrime)"
   ]
  },
  {
   "cell_type": "code",
   "execution_count": 3,
   "metadata": {},
   "outputs": [],
   "source": [
    "def sudokuGetRegions(borad, x, y):\r\n",
    "    borad = np.matrix(borad)\r\n",
    "    regions = (\r\n",
    "        borad[x].A1,                                # ROW\r\n",
    "        borad[:,y].A1,                              # COL\r\n",
    "        borad[x//3*3:x//3*3+3 ,y//3*3:y//3*3+3].A1  # BOX\r\n",
    "    )\r\n",
    "    return regions"
   ]
  },
  {
   "cell_type": "code",
   "execution_count": 4,
   "metadata": {},
   "outputs": [
    {
     "output_type": "execute_result",
     "data": {
      "text/plain": [
       "(array([5, 0, 0, 0, 0, 1, 2, 0, 0]),\n",
       " array([9, 0, 0, 0, 0, 4, 8, 0, 0]),\n",
       " array([5, 0, 0, 0, 2, 0, 0, 0, 4]))"
      ]
     },
     "metadata": {},
     "execution_count": 4
    }
   ],
   "source": [
    "sudokuGetRegions(extrime, 3,2)"
   ]
  },
  {
   "cell_type": "code",
   "execution_count": 46,
   "metadata": {},
   "outputs": [],
   "source": [
    "def isPossible(borad, x, y, value = 0):\n",
    "    newborad = borad.copy()\n",
    "    newborad[x,y] = value if value > 0 else newborad[x,y]\n",
    "    regions = sudokuGetRegions(newborad, x, y)\n",
    "    # clear all zeros and get unique with counts\n",
    "    valueSets = [Counter(np.delete(reg, np.where(reg == 0))) for reg in regions] \n",
    "    for valueSet in valueSets:\n",
    "        # check the values of valueset for anything that is grater the 1  \n",
    "        countGTone = len(np.where(np.array(list(valueSet.values())) > 1)[0]) \n",
    "        if countGTone > 0: return False\n",
    "    return True"
   ]
  },
  {
   "cell_type": "code",
   "execution_count": 47,
   "metadata": {},
   "outputs": [
    {
     "output_type": "stream",
     "name": "stdout",
     "text": [
      "5\nTrue\n"
     ]
    }
   ],
   "source": [
    "print(extrime[3,0])\n",
    "a = isPossible(extrime, 3,0)\n",
    "print(a)"
   ]
  },
  {
   "cell_type": "code",
   "execution_count": 132,
   "metadata": {},
   "outputs": [],
   "source": [
    "def solve(borad):\n",
    "    for y in range(9):\n",
    "        for x in range(9):\n",
    "            if borad[x,y] == 0:\n",
    "                for val in range(1,10):\n",
    "                    if isPossible(borad, x, y, val):\n",
    "                        borad[x,y] = val\n",
    "                        yield from solve(borad)\n",
    "                        borad[x,y] = 0\n",
    "                return borad\n",
    "    yield borad"
   ]
  },
  {
   "cell_type": "code",
   "execution_count": 133,
   "metadata": {
    "tags": []
   },
   "outputs": [
    {
     "output_type": "stream",
     "name": "stdout",
     "text": [
      "#-------+-------+-------#\n",
      "|     9 | 4     |     6 | \n",
      "|   1   |   5   |   4   | \n",
      "| 7     |     6 | 5     | \n",
      "#-------+-------+-------#\n",
      "| 5     |     1 | 2     | \n",
      "|   2   |   7   |   3   | \n",
      "|     4 | 5     |     9 | \n",
      "#-------+-------+-------#\n",
      "|     8 | 6     |     1 | \n",
      "|   7   |   9   |   2   | \n",
      "| 1     |     8 | 9     | \n",
      "#-------+-------+-------#\n",
      "\n",
      "#-------+-------+-------#\n",
      "| 2 5 9 | 4 3 7 | 1 8 6 | \n",
      "| 8 1 6 | 2 5 9 | 3 4 7 | \n",
      "| 7 4 3 | 8 1 6 | 5 9 2 | \n",
      "#-------+-------+-------#\n",
      "| 5 9 7 | 3 8 1 | 2 6 4 | \n",
      "| 6 2 1 | 9 7 4 | 8 3 5 | \n",
      "| 3 8 4 | 5 6 2 | 7 1 9 | \n",
      "#-------+-------+-------#\n",
      "| 9 3 8 | 6 2 5 | 4 7 1 | \n",
      "| 4 7 5 | 1 9 3 | 6 2 8 | \n",
      "| 1 6 2 | 7 4 8 | 9 5 3 | \n",
      "#-------+-------+-------#\n",
      "\n",
      "6212\n"
     ]
    }
   ],
   "source": [
    "activeBoard = extrime.copy()\n",
    "# printBorad(extrime)\n",
    "itters = 0\n",
    "printBorad(activeBoard)\n",
    "\n",
    "a = solve(activeBoard)\n",
    "for b in a:\n",
    "    # print(itters)\n",
    "    printBorad(activeBoard)\n",
    "print(itters)"
   ]
  },
  {
   "cell_type": "code",
   "execution_count": null,
   "metadata": {},
   "outputs": [],
   "source": []
  }
 ]
}