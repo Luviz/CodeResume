{
 "metadata": {
  "language_info": {
   "codemirror_mode": {
    "name": "ipython",
    "version": 3
   },
   "file_extension": ".py",
   "mimetype": "text/x-python",
   "name": "python",
   "nbconvert_exporter": "python",
   "pygments_lexer": "ipython3",
   "version": "3.9.3-final"
  },
  "orig_nbformat": 2,
  "kernelspec": {
   "name": "python393jvsc74a57bd092c9a26106f171fbfb0b57396b2b3e84bd7f3f035e7ae4fc69e0fd181b6d2782",
   "display_name": "Python 3.9.3 64-bit"
  },
  "metadata": {
   "interpreter": {
    "hash": "92c9a26106f171fbfb0b57396b2b3e84bd7f3f035e7ae4fc69e0fd181b6d2782"
   }
  }
 },
 "nbformat": 4,
 "nbformat_minor": 2,
 "cells": [
  {
   "source": [
    "# Simple Text Analyzer\n",
    "\n",
    "ok so here have have some data with some sencetes and tags. We write something and the AI will try to geuss what it's.\n",
    " "
   ],
   "cell_type": "markdown",
   "metadata": {}
  },
  {
   "cell_type": "code",
   "execution_count": 1,
   "metadata": {},
   "outputs": [],
   "source": [
    "import json\n",
    "from io import open\n",
    "import re\n",
    "import numpy as np"
   ]
  },
  {
   "cell_type": "code",
   "execution_count": 2,
   "metadata": {},
   "outputs": [
    {
     "output_type": "execute_result",
     "data": {
      "text/plain": [
       "{'tags': [{'tag': 'greetings',\n",
       "   'sentences': ['Hello!',\n",
       "    'Hey',\n",
       "    \"What's up\",\n",
       "    'Nice to meet you',\n",
       "    'Good morning.',\n",
       "    'Good evening',\n",
       "    'Good morning',\n",
       "    'Good afternoon',\n",
       "    'Good evening',\n",
       "    'Itâ€™s nice to meet you',\n",
       "    'Itâ€™s a pleasure to meet you']},\n",
       "  {'tag': 'identity',\n",
       "   'sentences': ['Who are you?',\n",
       "    'What are you?',\n",
       "    'What is you name?',\n",
       "    'What do you do?']},\n",
       "  {'tag': 'jokes',\n",
       "   'sentences': ['Did you hear about the mathematician whoâ€™s afraid of negative numbers?',\n",
       "    \"Why do we tell actors to 'break a leg?'\",\n",
       "    'Helvetica and Times New Roman walk into a bar.',\n",
       "    'Did you hear about the actor who fell through the floorboards?']}]}"
      ]
     },
     "metadata": {},
     "execution_count": 2
    }
   ],
   "source": [
    "# load data \n",
    "with open(\"data.json\", \"r\") as d:\n",
    "    data = json.load(d)\n",
    "data"
   ]
  },
  {
   "source": [
    "# totalt word list \n",
    "wordlist = []\n",
    "tag_wordlist = dict()\n",
    "pattern = re.compile('\\w+')\n",
    "for tag in data['tags']:\n",
    "    tag_wordlist[tag['tag']] = []\n",
    "    for s in tag['sentences']:\n",
    "        # print(tag['tag'],[a for a in p.findall(s)])\n",
    "        wl = [a.lower() for a in pattern.findall(s)]\n",
    "        tag_wordlist[tag['tag']].extend(wl)\n",
    "        wordlist.extend(wl)\n",
    "\n",
    "# wordlist.sort()\n",
    "wordlist = list(set(wordlist))\n",
    "wordlist.sort()\n",
    "print(tag_wordlist,'\\n', wordlist)\n",
    "len(wordlist)\n"
   ],
   "cell_type": "code",
   "metadata": {},
   "execution_count": 11,
   "outputs": [
    {
     "output_type": "stream",
     "name": "stdout",
     "text": [
      "{'greetings': ['hello', 'hey', 'what', 's', 'up', 'nice', 'to', 'meet', 'you', 'good', 'morning', 'good', 'evening', 'good', 'morning', 'good', 'afternoon', 'good', 'evening', 'itâ', 's', 'nice', 'to', 'meet', 'you', 'itâ', 's', 'a', 'pleasure', 'to', 'meet', 'you'], 'identity': ['who', 'are', 'you', 'what', 'are', 'you', 'what', 'is', 'you', 'name', 'what', 'do', 'you', 'do'], 'jokes': ['did', 'you', 'hear', 'about', 'the', 'mathematician', 'whoâ', 's', 'afraid', 'of', 'negative', 'numbers', 'why', 'do', 'we', 'tell', 'actors', 'to', 'break', 'a', 'leg', 'helvetica', 'and', 'times', 'new', 'roman', 'walk', 'into', 'a', 'bar', 'did', 'you', 'hear', 'about', 'the', 'actor', 'who', 'fell', 'through', 'the', 'floorboards']} \n ['a', 'about', 'actor', 'actors', 'afraid', 'afternoon', 'and', 'are', 'bar', 'break', 'did', 'do', 'evening', 'fell', 'floorboards', 'good', 'hear', 'hello', 'helvetica', 'hey', 'into', 'is', 'itâ', 'leg', 'mathematician', 'meet', 'morning', 'name', 'negative', 'new', 'nice', 'numbers', 'of', 'pleasure', 'roman', 's', 'tell', 'the', 'through', 'times', 'to', 'up', 'walk', 'we', 'what', 'who', 'whoâ', 'why', 'you']\n"
     ]
    },
    {
     "output_type": "execute_result",
     "data": {
      "text/plain": [
       "49"
      ]
     },
     "metadata": {},
     "execution_count": 11
    }
   ]
  },
  {
   "source": [
    "So now I'm gonna try to make a matrix of bools/counts,\n",
    "\n",
    "TagName   | hello | new | why | you    \n",
    "----------|-------|-----|-----|--------\n",
    "greetings | 1     | 0   | 1   | 1 or 3 \n",
    "identity  | 0     | 0   | 0   | 1 or 4 \n",
    "jokes     | 0     | 1   | 1   | 1 or 2 \n",
    " "
   ],
   "cell_type": "markdown",
   "metadata": {}
  },
  {
   "cell_type": "code",
   "execution_count": 12,
   "metadata": {},
   "outputs": [
    {
     "output_type": "stream",
     "name": "stdout",
     "text": [
      "[1 0 2] a\n[0 0 2] about\n[0 0 1] actor\n[0 0 1] actors\n[0 0 1] afraid\n[1 0 0] afternoon\n[0 0 1] and\n[0 2 0] are\n[0 0 1] bar\n[0 0 1] break\n[0 0 2] did\n[0 2 1] do\n[2 0 0] evening\n[0 0 1] fell\n[0 0 1] floorboards\n[5 0 0] good\n[0 0 2] hear\n[1 0 0] hello\n[0 0 1] helvetica\n[1 0 0] hey\n[0 0 1] into\n[0 1 0] is\n[2 0 0] itâ\n[0 0 1] leg\n[0 0 1] mathematician\n[3 0 0] meet\n[2 0 0] morning\n[0 1 0] name\n[0 0 1] negative\n[0 0 1] new\n[2 0 0] nice\n[0 0 1] numbers\n[0 0 1] of\n[1 0 0] pleasure\n[0 0 1] roman\n[3 0 1] s\n[0 0 1] tell\n[0 0 3] the\n[0 0 1] through\n[0 0 1] times\n[3 0 1] to\n[1 0 0] up\n[0 0 1] walk\n[0 0 1] we\n[1 3 0] what\n[0 1 1] who\n[0 0 1] whoâ\n[0 0 1] why\n[3 4 2] you\n"
     ]
    }
   ],
   "source": [
    "mat = np.zeros((len(wordlist),len(tag_wordlist)), 'int8')\n",
    "for ix, word in enumerate(wordlist):\n",
    "    for iy, tag in enumerate(tag_wordlist):\n",
    "        for w in tag_wordlist[tag]:\n",
    "            if w == word:\n",
    "                mat[ix,iy] += 1\n",
    "for i, word in enumerate(wordlist):\n",
    "    print(mat[i], word)"
   ]
  },
  {
   "source": [
    "OK Now we can start modeling..."
   ],
   "cell_type": "markdown",
   "metadata": {}
  },
  {
   "cell_type": "code",
   "execution_count": null,
   "metadata": {},
   "outputs": [],
   "source": []
  }
 ]
}