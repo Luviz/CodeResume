{
 "metadata": {
  "language_info": {
   "codemirror_mode": {
    "name": "ipython",
    "version": 3
   },
   "file_extension": ".py",
   "mimetype": "text/x-python",
   "name": "python",
   "nbconvert_exporter": "python",
   "pygments_lexer": "ipython3",
   "version": "3.9.4-final"
  },
  "orig_nbformat": 2,
  "kernelspec": {
   "name": "python394jvsc74a57bd092c9a26106f171fbfb0b57396b2b3e84bd7f3f035e7ae4fc69e0fd181b6d2782",
   "display_name": "Python 3.9.4 64-bit"
  },
  "metadata": {
   "interpreter": {
    "hash": "92c9a26106f171fbfb0b57396b2b3e84bd7f3f035e7ae4fc69e0fd181b6d2782"
   }
  }
 },
 "nbformat": 4,
 "nbformat_minor": 2,
 "cells": [
  {
   "source": [
    "# Simple Text Analyzer\n",
    "\n",
    "ok so here have have some data with some sencetes and tags. We write something and the AI will try to geuss what it's.\n",
    " "
   ],
   "cell_type": "markdown",
   "metadata": {}
  },
  {
   "cell_type": "code",
   "execution_count": 1,
   "metadata": {},
   "outputs": [],
   "source": [
    "import json\n",
    "from io import open\n",
    "import re\n",
    "import numpy as np\n",
    "import pandas as pd"
   ]
  },
  {
   "cell_type": "code",
   "execution_count": 2,
   "metadata": {},
   "outputs": [
    {
     "output_type": "execute_result",
     "data": {
      "text/plain": [
       "{'tags': [{'tag': 'greetings',\n",
       "   'sentences': ['Hello!',\n",
       "    'Hey',\n",
       "    \"What's up\",\n",
       "    'Nice to meet you',\n",
       "    'Good morning.',\n",
       "    'Good evening',\n",
       "    'Good morning',\n",
       "    'Good afternoon',\n",
       "    'Good evening',\n",
       "    \"It's nice to meet you\",\n",
       "    \"It's a pleasure to meet you\"]},\n",
       "  {'tag': 'identity',\n",
       "   'sentences': ['Who are you?',\n",
       "    'What are you?',\n",
       "    'What is you name?',\n",
       "    'What do you do?']},\n",
       "  {'tag': 'jokes',\n",
       "   'sentences': [\"Did you hear about the mathematician who's afraid of negative numbers?\",\n",
       "    \"Why do we tell actors to 'break a leg?'\",\n",
       "    'Helvetica and Times New Roman walk into a bar.',\n",
       "    'Did you hear about the actor who fell through the floorboards?']}]}"
      ]
     },
     "metadata": {},
     "execution_count": 2
    }
   ],
   "source": [
    "# load data \n",
    "with open(\"data.json\", \"r\") as d:\n",
    "    data = json.load(d)\n",
    "data"
   ]
  },
  {
   "source": [
    "# totalt word list \n",
    "wordlist = []\n",
    "tag_wordlist = dict()\n",
    "pattern = re.compile('\\w+')\n",
    "for tag in data['tags']:\n",
    "    tag_wordlist[tag['tag']] = []\n",
    "    for s in tag['sentences']:\n",
    "        # print(tag['tag'],[a for a in p.findall(s)])\n",
    "        wl = [a.lower() for a in pattern.findall(s)]\n",
    "        tag_wordlist[tag['tag']].extend(wl)\n",
    "        wordlist.extend(wl)\n",
    "\n",
    "# wordlist.sort()\n",
    "wordlist = list(set(wordlist))\n",
    "wordlist.sort()"
   ],
   "cell_type": "code",
   "metadata": {},
   "execution_count": 3,
   "outputs": []
  },
  {
   "cell_type": "code",
   "execution_count": 4,
   "metadata": {},
   "outputs": [
    {
     "output_type": "stream",
     "name": "stdout",
     "text": [
      "len of wordlist: 48\n"
     ]
    },
    {
     "output_type": "execute_result",
     "data": {
      "text/plain": [
       "        keys      0    1     2      3    4              5     6     7       8  \\\n",
       "0  greetings  hello  hey  what      s   up           nice    to  meet     you   \n",
       "1   identity    who  are   you   what  are            you  what    is     you   \n",
       "2      jokes    did  you  hear  about  the  mathematician   who     s  afraid   \n",
       "\n",
       "   ...    31    32     33    34     35    36    37       38    39           40  \n",
       "0  ...   you  None   None  None   None  None  None     None  None         None  \n",
       "1  ...  None  None   None  None   None  None  None     None  None         None  \n",
       "2  ...   you  hear  about   the  actor   who  fell  through   the  floorboards  \n",
       "\n",
       "[3 rows x 42 columns]"
      ],
      "text/html": "<div>\n<style scoped>\n    .dataframe tbody tr th:only-of-type {\n        vertical-align: middle;\n    }\n\n    .dataframe tbody tr th {\n        vertical-align: top;\n    }\n\n    .dataframe thead th {\n        text-align: right;\n    }\n</style>\n<table border=\"1\" class=\"dataframe\">\n  <thead>\n    <tr style=\"text-align: right;\">\n      <th></th>\n      <th>keys</th>\n      <th>0</th>\n      <th>1</th>\n      <th>2</th>\n      <th>3</th>\n      <th>4</th>\n      <th>5</th>\n      <th>6</th>\n      <th>7</th>\n      <th>8</th>\n      <th>...</th>\n      <th>31</th>\n      <th>32</th>\n      <th>33</th>\n      <th>34</th>\n      <th>35</th>\n      <th>36</th>\n      <th>37</th>\n      <th>38</th>\n      <th>39</th>\n      <th>40</th>\n    </tr>\n  </thead>\n  <tbody>\n    <tr>\n      <th>0</th>\n      <td>greetings</td>\n      <td>hello</td>\n      <td>hey</td>\n      <td>what</td>\n      <td>s</td>\n      <td>up</td>\n      <td>nice</td>\n      <td>to</td>\n      <td>meet</td>\n      <td>you</td>\n      <td>...</td>\n      <td>you</td>\n      <td>None</td>\n      <td>None</td>\n      <td>None</td>\n      <td>None</td>\n      <td>None</td>\n      <td>None</td>\n      <td>None</td>\n      <td>None</td>\n      <td>None</td>\n    </tr>\n    <tr>\n      <th>1</th>\n      <td>identity</td>\n      <td>who</td>\n      <td>are</td>\n      <td>you</td>\n      <td>what</td>\n      <td>are</td>\n      <td>you</td>\n      <td>what</td>\n      <td>is</td>\n      <td>you</td>\n      <td>...</td>\n      <td>None</td>\n      <td>None</td>\n      <td>None</td>\n      <td>None</td>\n      <td>None</td>\n      <td>None</td>\n      <td>None</td>\n      <td>None</td>\n      <td>None</td>\n      <td>None</td>\n    </tr>\n    <tr>\n      <th>2</th>\n      <td>jokes</td>\n      <td>did</td>\n      <td>you</td>\n      <td>hear</td>\n      <td>about</td>\n      <td>the</td>\n      <td>mathematician</td>\n      <td>who</td>\n      <td>s</td>\n      <td>afraid</td>\n      <td>...</td>\n      <td>you</td>\n      <td>hear</td>\n      <td>about</td>\n      <td>the</td>\n      <td>actor</td>\n      <td>who</td>\n      <td>fell</td>\n      <td>through</td>\n      <td>the</td>\n      <td>floorboards</td>\n    </tr>\n  </tbody>\n</table>\n<p>3 rows × 42 columns</p>\n</div>"
     },
     "metadata": {},
     "execution_count": 4
    }
   ],
   "source": [
    "# print(\"tag wl: \",tag_wordlist,'\\n')\n",
    "# print(\"wl:\", wordlist, '\\n')\n",
    "print(\"len of wordlist:\", len(wordlist))\n",
    "df_tags = pd.DataFrame(enumerate(tag_wordlist))\n",
    "df_tlk = pd.DataFrame(list(tag_wordlist.keys()), columns=[\"keys\"])\n",
    "df_tlv = pd.DataFrame(tag_wordlist.values())\n",
    "df_tlk.join(df_tlv)"
   ]
  },
  {
   "source": [
    "So now I'm gonna try to make a matrix of bools/counts,\n",
    "\n",
    "TagName   | hello | new | why | you    \n",
    "----------|-------|-----|-----|--------\n",
    "greetings | 1     | 0   | 1   | 1 or 3 \n",
    "identity  | 0     | 0   | 0   | 1 or 4 \n",
    "jokes     | 0     | 1   | 1   | 1 or 2 \n",
    " "
   ],
   "cell_type": "markdown",
   "metadata": {}
  },
  {
   "cell_type": "code",
   "execution_count": 5,
   "metadata": {},
   "outputs": [],
   "source": [
    "mat = np.zeros((len(tag_wordlist),len(wordlist)), 'int8')\n",
    "for iy, word in enumerate(wordlist):\n",
    "    for ix, tag in enumerate(tag_wordlist):\n",
    "        for w in tag_wordlist[tag]:\n",
    "            if w == word:\n",
    "                mat[ix,iy] += 1\n"
   ]
  },
  {
   "cell_type": "code",
   "execution_count": 6,
   "metadata": {},
   "outputs": [
    {
     "output_type": "execute_result",
     "data": {
      "text/plain": [
       "        keys  a  about  actor  actors  afraid  afternoon  and  are  bar  ...  \\\n",
       "0  greetings  1      0      0       0       0          1    0    0    0  ...   \n",
       "1   identity  0      0      0       0       0          0    0    2    0  ...   \n",
       "2      jokes  2      2      1       1       1          0    1    0    1  ...   \n",
       "\n",
       "   through  times  to  up  walk  we  what  who  why  you  \n",
       "0        0      0   3   1     0   0     1    0    0    3  \n",
       "1        0      0   0   0     0   0     3    1    0    4  \n",
       "2        1      1   1   0     1   1     0    2    1    2  \n",
       "\n",
       "[3 rows x 49 columns]"
      ],
      "text/html": "<div>\n<style scoped>\n    .dataframe tbody tr th:only-of-type {\n        vertical-align: middle;\n    }\n\n    .dataframe tbody tr th {\n        vertical-align: top;\n    }\n\n    .dataframe thead th {\n        text-align: right;\n    }\n</style>\n<table border=\"1\" class=\"dataframe\">\n  <thead>\n    <tr style=\"text-align: right;\">\n      <th></th>\n      <th>keys</th>\n      <th>a</th>\n      <th>about</th>\n      <th>actor</th>\n      <th>actors</th>\n      <th>afraid</th>\n      <th>afternoon</th>\n      <th>and</th>\n      <th>are</th>\n      <th>bar</th>\n      <th>...</th>\n      <th>through</th>\n      <th>times</th>\n      <th>to</th>\n      <th>up</th>\n      <th>walk</th>\n      <th>we</th>\n      <th>what</th>\n      <th>who</th>\n      <th>why</th>\n      <th>you</th>\n    </tr>\n  </thead>\n  <tbody>\n    <tr>\n      <th>0</th>\n      <td>greetings</td>\n      <td>1</td>\n      <td>0</td>\n      <td>0</td>\n      <td>0</td>\n      <td>0</td>\n      <td>1</td>\n      <td>0</td>\n      <td>0</td>\n      <td>0</td>\n      <td>...</td>\n      <td>0</td>\n      <td>0</td>\n      <td>3</td>\n      <td>1</td>\n      <td>0</td>\n      <td>0</td>\n      <td>1</td>\n      <td>0</td>\n      <td>0</td>\n      <td>3</td>\n    </tr>\n    <tr>\n      <th>1</th>\n      <td>identity</td>\n      <td>0</td>\n      <td>0</td>\n      <td>0</td>\n      <td>0</td>\n      <td>0</td>\n      <td>0</td>\n      <td>0</td>\n      <td>2</td>\n      <td>0</td>\n      <td>...</td>\n      <td>0</td>\n      <td>0</td>\n      <td>0</td>\n      <td>0</td>\n      <td>0</td>\n      <td>0</td>\n      <td>3</td>\n      <td>1</td>\n      <td>0</td>\n      <td>4</td>\n    </tr>\n    <tr>\n      <th>2</th>\n      <td>jokes</td>\n      <td>2</td>\n      <td>2</td>\n      <td>1</td>\n      <td>1</td>\n      <td>1</td>\n      <td>0</td>\n      <td>1</td>\n      <td>0</td>\n      <td>1</td>\n      <td>...</td>\n      <td>1</td>\n      <td>1</td>\n      <td>1</td>\n      <td>0</td>\n      <td>1</td>\n      <td>1</td>\n      <td>0</td>\n      <td>2</td>\n      <td>1</td>\n      <td>2</td>\n    </tr>\n  </tbody>\n</table>\n<p>3 rows × 49 columns</p>\n</div>"
     },
     "metadata": {},
     "execution_count": 6
    }
   ],
   "source": [
    "df_mat = pd.DataFrame(mat, columns=wordlist)\n",
    "df_words_tags = df_tlk.join(df_mat)\n",
    "df_words_tags"
   ]
  },
  {
   "source": [
    "OK Now we can start modeling..."
   ],
   "cell_type": "markdown",
   "metadata": {}
  },
  {
   "source": [
    "This is interesting, I do not think I can train this model! \n",
    "\n",
    "I don’t have datasets. I just have a collection of words and tags.\n",
    "\n",
    "I also have notice that I completely, ignore the scenes. But what if …\n"
   ],
   "cell_type": "markdown",
   "metadata": {}
  },
  {
   "cell_type": "code",
   "execution_count": 7,
   "metadata": {},
   "outputs": [
    {
     "output_type": "execute_result",
     "data": {
      "text/plain": [
       "        keys  to\n",
       "0  greetings   3\n",
       "1   identity   0\n",
       "2      jokes   1"
      ],
      "text/html": "<div>\n<style scoped>\n    .dataframe tbody tr th:only-of-type {\n        vertical-align: middle;\n    }\n\n    .dataframe tbody tr th {\n        vertical-align: top;\n    }\n\n    .dataframe thead th {\n        text-align: right;\n    }\n</style>\n<table border=\"1\" class=\"dataframe\">\n  <thead>\n    <tr style=\"text-align: right;\">\n      <th></th>\n      <th>keys</th>\n      <th>to</th>\n    </tr>\n  </thead>\n  <tbody>\n    <tr>\n      <th>0</th>\n      <td>greetings</td>\n      <td>3</td>\n    </tr>\n    <tr>\n      <th>1</th>\n      <td>identity</td>\n      <td>0</td>\n    </tr>\n    <tr>\n      <th>2</th>\n      <td>jokes</td>\n      <td>1</td>\n    </tr>\n  </tbody>\n</table>\n</div>"
     },
     "metadata": {},
     "execution_count": 7
    }
   ],
   "source": [
    "# lets ckeck and if what tag might 'to' be more likelly to be in \n",
    "df_words_tags[[\"keys\", \"to\"]]"
   ]
  },
  {
   "cell_type": "code",
   "execution_count": 8,
   "metadata": {},
   "outputs": [
    {
     "output_type": "execute_result",
     "data": {
      "text/plain": [
       "0.75"
      ]
     },
     "metadata": {},
     "execution_count": 8
    }
   ],
   "source": [
    "# well it's obviuslly 3 \n",
    "3/(3+1) # is 0.75\n",
    "# this give me an idea"
   ]
  },
  {
   "cell_type": "code",
   "execution_count": 9,
   "metadata": {},
   "outputs": [],
   "source": [
    "# lets try converting all numbers to percentages\n",
    "def runOnCol(colName: str, df: pd.DataFrame):\n",
    "    sum = df[colName].sum()\n",
    "    return df[colName].apply(lambda v: round(v/sum,2))"
   ]
  },
  {
   "cell_type": "code",
   "execution_count": 10,
   "metadata": {},
   "outputs": [
    {
     "output_type": "execute_result",
     "data": {
      "text/plain": [
       "        keys     a  about  actor  actors  afraid  afternoon  and  are  bar  \\\n",
       "0  greetings  0.33    0.0    0.0     0.0     0.0        1.0  0.0  0.0  0.0   \n",
       "1   identity  0.00    0.0    0.0     0.0     0.0        0.0  0.0  1.0  0.0   \n",
       "2      jokes  0.67    1.0    1.0     1.0     1.0        0.0  1.0  0.0  1.0   \n",
       "\n",
       "   ...  through  times    to   up  walk   we  what   who  why   you  \n",
       "0  ...      0.0    0.0  0.75  1.0   0.0  0.0  0.25  0.00  0.0  0.33  \n",
       "1  ...      0.0    0.0  0.00  0.0   0.0  0.0  0.75  0.33  0.0  0.44  \n",
       "2  ...      1.0    1.0  0.25  0.0   1.0  1.0  0.00  0.67  1.0  0.22  \n",
       "\n",
       "[3 rows x 49 columns]"
      ],
      "text/html": "<div>\n<style scoped>\n    .dataframe tbody tr th:only-of-type {\n        vertical-align: middle;\n    }\n\n    .dataframe tbody tr th {\n        vertical-align: top;\n    }\n\n    .dataframe thead th {\n        text-align: right;\n    }\n</style>\n<table border=\"1\" class=\"dataframe\">\n  <thead>\n    <tr style=\"text-align: right;\">\n      <th></th>\n      <th>keys</th>\n      <th>a</th>\n      <th>about</th>\n      <th>actor</th>\n      <th>actors</th>\n      <th>afraid</th>\n      <th>afternoon</th>\n      <th>and</th>\n      <th>are</th>\n      <th>bar</th>\n      <th>...</th>\n      <th>through</th>\n      <th>times</th>\n      <th>to</th>\n      <th>up</th>\n      <th>walk</th>\n      <th>we</th>\n      <th>what</th>\n      <th>who</th>\n      <th>why</th>\n      <th>you</th>\n    </tr>\n  </thead>\n  <tbody>\n    <tr>\n      <th>0</th>\n      <td>greetings</td>\n      <td>0.33</td>\n      <td>0.0</td>\n      <td>0.0</td>\n      <td>0.0</td>\n      <td>0.0</td>\n      <td>1.0</td>\n      <td>0.0</td>\n      <td>0.0</td>\n      <td>0.0</td>\n      <td>...</td>\n      <td>0.0</td>\n      <td>0.0</td>\n      <td>0.75</td>\n      <td>1.0</td>\n      <td>0.0</td>\n      <td>0.0</td>\n      <td>0.25</td>\n      <td>0.00</td>\n      <td>0.0</td>\n      <td>0.33</td>\n    </tr>\n    <tr>\n      <th>1</th>\n      <td>identity</td>\n      <td>0.00</td>\n      <td>0.0</td>\n      <td>0.0</td>\n      <td>0.0</td>\n      <td>0.0</td>\n      <td>0.0</td>\n      <td>0.0</td>\n      <td>1.0</td>\n      <td>0.0</td>\n      <td>...</td>\n      <td>0.0</td>\n      <td>0.0</td>\n      <td>0.00</td>\n      <td>0.0</td>\n      <td>0.0</td>\n      <td>0.0</td>\n      <td>0.75</td>\n      <td>0.33</td>\n      <td>0.0</td>\n      <td>0.44</td>\n    </tr>\n    <tr>\n      <th>2</th>\n      <td>jokes</td>\n      <td>0.67</td>\n      <td>1.0</td>\n      <td>1.0</td>\n      <td>1.0</td>\n      <td>1.0</td>\n      <td>0.0</td>\n      <td>1.0</td>\n      <td>0.0</td>\n      <td>1.0</td>\n      <td>...</td>\n      <td>1.0</td>\n      <td>1.0</td>\n      <td>0.25</td>\n      <td>0.0</td>\n      <td>1.0</td>\n      <td>1.0</td>\n      <td>0.00</td>\n      <td>0.67</td>\n      <td>1.0</td>\n      <td>0.22</td>\n    </tr>\n  </tbody>\n</table>\n<p>3 rows × 49 columns</p>\n</div>"
     },
     "metadata": {},
     "execution_count": 10
    }
   ],
   "source": [
    "df_words_tags_p = pd.DataFrame(df_words_tags[\"keys\"], columns=df_words_tags.columns)\n",
    "for col in df_words_tags.columns[1:]:\n",
    "    df_words_tags_p[col] = runOnCol(col, df_words_tags)\n",
    "\n",
    "df_words_tags_p"
   ]
  },
  {
   "cell_type": "code",
   "execution_count": 11,
   "metadata": {},
   "outputs": [],
   "source": [
    "# humm I wonder what if I sum it up\n",
    "tests = [\n",
    "    \"hello\",\n",
    "    \"morning\",\n",
    "    \"good evening\",\n",
    "    \"who are you\",\n",
    "    \"what is that\",\n",
    "    \"is that moring\",\n",
    "    \"two man walked in to a bar\",\n",
    "    \"do you have something for me\"\n",
    "]\n",
    "def testPrediction(val):\n",
    "    sentence = val.lower().split(' ')\n",
    "    df= []\n",
    "    for word in sentence:\n",
    "        if word in df_words_tags_p:\n",
    "            df.append(df_words_tags_p[word].to_list())\n",
    "\n",
    "    return pd.DataFrame(df, columns=df_words_tags_p[\"keys\"]).sum()"
   ]
  },
  {
   "cell_type": "code",
   "execution_count": 12,
   "metadata": {},
   "outputs": [
    {
     "output_type": "stream",
     "name": "stdout",
     "text": [
      "hello \n keys\ngreetings    1.0\nidentity     0.0\njokes        0.0\ndtype: float64 \n\nmorning \n keys\ngreetings    1.0\nidentity     0.0\njokes        0.0\ndtype: float64 \n\ngood evening \n keys\ngreetings    2.0\nidentity     0.0\njokes        0.0\ndtype: float64 \n\nwho are you \n keys\nidentity     1.77\njokes        0.89\ngreetings    0.33\ndtype: float64 \n\nwhat is that \n keys\nidentity     1.75\ngreetings    0.25\njokes        0.00\ndtype: float64 \n\nis that moring \n keys\nidentity     1.0\ngreetings    0.0\njokes        0.0\ndtype: float64 \n\ntwo man walked in to a bar \n keys\njokes        1.92\ngreetings    1.08\nidentity     0.00\ndtype: float64 \n\ndo you have something for me \n keys\nidentity     1.11\njokes        0.55\ngreetings    0.33\ndtype: float64 \n\n"
     ]
    }
   ],
   "source": [
    "for test in tests:\n",
    "    res = testPrediction(test)\n",
    "    print(test,'\\n', res.sort_values(ascending=False), '\\n')\n"
   ]
  },
  {
   "source": [
    "But this is not machine learning, I'm just running basic statistics. There is no improvement here, that data is constant and stale.\n",
    "\n",
    "However, this might just be useable for a simple chat bot, if I added word stemming and some responses based on tags. It should work, shouldn't it?\n",
    "\n",
    "Currently I have ~48 unique words, I believe if I added word stemming that number may be reduced by ~20%, if not more.\n",
    "\n",
    "Nothing noticeable due to lack of data, but if I reach 5000 words. How accurate can I get?\n",
    "\n",
    "I have noticed that I can use the test Predictions output to feed back in to the json. Let's say that I take the content of a novel. Break it to sentences, clean up the punctuations and then feed it into the function. And take the results and feed it back, to the tag with the highest value.\n",
    "\n",
    "Now that might just be Machine learning.\n"
   ],
   "cell_type": "markdown",
   "metadata": {}
  }
 ]
}